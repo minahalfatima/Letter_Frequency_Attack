{
  "nbformat": 4,
  "nbformat_minor": 0,
  "metadata": {
    "colab": {
      "name": "letter_frequency_analysis.ipynb",
      "provenance": []
    },
    "kernelspec": {
      "name": "python3",
      "display_name": "Python 3"
    },
    "language_info": {
      "name": "python"
    }
  },
  "cells": [
    {
      "cell_type": "code",
      "execution_count": null,
      "metadata": {
        "id": "MEVmHgQOxVOA"
      },
      "outputs": [],
      "source": [
        "letter_freq = \"ETAOINSHRDLCUMWFGYPBVKJXQZ\""
      ]
    },
    {
      "cell_type": "code",
      "source": [
        "cipher = input(\"Enter the ciphertext: \")\n",
        "cipher = cipher.upper()"
      ],
      "metadata": {
        "colab": {
          "base_uri": "https://localhost:8080/"
        },
        "id": "dunV_7p_xa8F",
        "outputId": "16e71d24-1fb3-43e8-de1f-78ce927f00e7"
      },
      "execution_count": null,
      "outputs": [
        {
          "name": "stdout",
          "output_type": "stream",
          "text": [
            "Enter the ciphertext: efgfoe uif fbtu xbmm pg uif dbtumf \n"
          ]
        }
      ]
    },
    {
      "cell_type": "code",
      "source": [
        "key_mapping = {}\n",
        "total_chars = 0\n",
        "for c in cipher:\n",
        "    if c in key_mapping:\n",
        "        key_mapping[c] += 1\n",
        "        total_chars += 1\n",
        "    elif c.isalpha():\n",
        "        key_mapping[c] = 1\n",
        "        total_chars += 1\n",
        "print(key_mapping)"
      ],
      "metadata": {
        "colab": {
          "base_uri": "https://localhost:8080/"
        },
        "id": "YrLRSX8IxrsT",
        "outputId": "ed83cb6d-5c7d-4b8c-fb2b-8eacef47a58c"
      },
      "execution_count": null,
      "outputs": [
        {
          "output_type": "stream",
          "name": "stdout",
          "text": [
            "{'E': 2, 'F': 6, 'G': 2, 'O': 1, 'U': 4, 'I': 2, 'B': 3, 'T': 2, 'X': 1, 'M': 3, 'P': 1, 'D': 1}\n"
          ]
        }
      ]
    },
    {
      "cell_type": "code",
      "source": [
        "char_freq = list(key_mapping.keys())\n",
        "char_freq.sort(key=lambda x: key_mapping[x], reverse=True)\n",
        "\n",
        "print(\"\", \"-\"*80, \"\", sep=\"\\n\")\n",
        "print(\"Character Frequency:\\n\")\n",
        "for char in char_freq:\n",
        "    freq_cent = round(key_mapping[char]/total_chars * 100, 2)\n",
        "    print(char, \"\\t\", '▓' * round(freq_cent), \" \", freq_cent, \"%\", '\\n', sep=\"\")"
      ],
      "metadata": {
        "colab": {
          "base_uri": "https://localhost:8080/"
        },
        "id": "J6rlGv-Qx1lE",
        "outputId": "2969d39b-acea-4798-f3b4-0811f4c3a867"
      },
      "execution_count": null,
      "outputs": [
        {
          "output_type": "stream",
          "name": "stdout",
          "text": [
            "\n",
            "--------------------------------------------------------------------------------\n",
            "\n",
            "Character Frequency:\n",
            "\n",
            "F\t▓▓▓▓▓▓▓▓▓▓▓▓▓▓▓▓▓▓▓▓▓ 21.43%\n",
            "\n",
            "U\t▓▓▓▓▓▓▓▓▓▓▓▓▓▓ 14.29%\n",
            "\n",
            "B\t▓▓▓▓▓▓▓▓▓▓▓ 10.71%\n",
            "\n",
            "M\t▓▓▓▓▓▓▓▓▓▓▓ 10.71%\n",
            "\n",
            "E\t▓▓▓▓▓▓▓ 7.14%\n",
            "\n",
            "G\t▓▓▓▓▓▓▓ 7.14%\n",
            "\n",
            "I\t▓▓▓▓▓▓▓ 7.14%\n",
            "\n",
            "T\t▓▓▓▓▓▓▓ 7.14%\n",
            "\n",
            "O\t▓▓▓▓ 3.57%\n",
            "\n",
            "X\t▓▓▓▓ 3.57%\n",
            "\n",
            "P\t▓▓▓▓ 3.57%\n",
            "\n",
            "D\t▓▓▓▓ 3.57%\n",
            "\n"
          ]
        }
      ]
    },
    {
      "cell_type": "code",
      "source": [
        "char_freq = char_freq[:3]\n",
        "plain_texts = []\n",
        "for idx, c in enumerate(char_freq):\n",
        "    diff = ord(c[0]) - ord(letter_freq[idx])\n",
        "    plain_text = \"\"\n",
        "    for char in cipher:\n",
        "        if char.isalpha():\n",
        "            plain_text = plain_text + chr(\n",
        "                ((ord(char) - ord('A') + diff + 26) % 26) + ord('A')\n",
        "                )\n",
        "        else:\n",
        "            plain_text = plain_text + char\n",
        "    plain_texts.append(plain_text)"
      ],
      "metadata": {
        "id": "UlC2qFNXx8lo"
      },
      "execution_count": null,
      "outputs": []
    },
    {
      "cell_type": "code",
      "source": [
        "print(\"\", \"-\" * 80, \"\", sep=\"\\n\")\n",
        "print(f'Top {len(plain_texts)} possible plain texts:')\n",
        "for idx, p in enumerate(plain_texts):\n",
        "    print(idx + 1, p, '\\n', sep=\". \")"
      ],
      "metadata": {
        "colab": {
          "base_uri": "https://localhost:8080/"
        },
        "id": "6IOcDbsIyGd6",
        "outputId": "ffec2e35-d732-46b5-e973-9ea7cc6c3b4e"
      },
      "execution_count": null,
      "outputs": [
        {
          "output_type": "stream",
          "name": "stdout",
          "text": [
            "\n",
            "--------------------------------------------------------------------------------\n",
            "\n",
            "Top 3 possible plain texts:\n",
            "1. FGHGPF VJG GCUV YCNN QH VJG ECUVNG . \n",
            "\n",
            "2. FGHGPF VJG GCUV YCNN QH VJG ECUVNG . \n",
            "\n",
            "3. FGHGPF VJG GCUV YCNN QH VJG ECUVNG . \n",
            "\n"
          ]
        }
      ]
    }
  ]
}